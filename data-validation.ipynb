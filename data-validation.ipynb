{
 "cells": [
  {
   "cell_type": "code",
   "execution_count": 27,
   "id": "initial_id",
   "metadata": {
    "collapsed": true,
    "ExecuteTime": {
     "end_time": "2024-06-16T16:12:33.361322Z",
     "start_time": "2024-06-16T16:12:33.357437Z"
    }
   },
   "outputs": [],
   "source": [
    "import pandas as pd"
   ]
  },
  {
   "cell_type": "code",
   "outputs": [],
   "source": [
    "tmp = pd.read_csv(\"./metadata/FungiTastic-FewShot/FungiTastic-FewShot-train-metadata-landcover.csv\")"
   ],
   "metadata": {
    "collapsed": false,
    "ExecuteTime": {
     "end_time": "2024-06-16T16:12:33.701479Z",
     "start_time": "2024-06-16T16:12:33.697089Z"
    }
   },
   "id": "44cf67c11e6d82d8",
   "execution_count": 28
  },
  {
   "cell_type": "code",
   "outputs": [
    {
     "data": {
      "text/plain": "      observationID  landcover\n0        3032614316       12.0\n1        3052832307       16.0\n2        3061954303       17.0\n3        3052910309       14.0\n4        3052921349       17.0\n...             ...        ...\n4668     3419919343        1.0\n4669     3441332302       17.0\n4670     4100093368        1.0\n4671     3429079314       17.0\n4672     4847339663       17.0\n\n[4673 rows x 2 columns]",
      "text/html": "<div>\n<style scoped>\n    .dataframe tbody tr th:only-of-type {\n        vertical-align: middle;\n    }\n\n    .dataframe tbody tr th {\n        vertical-align: top;\n    }\n\n    .dataframe thead th {\n        text-align: right;\n    }\n</style>\n<table border=\"1\" class=\"dataframe\">\n  <thead>\n    <tr style=\"text-align: right;\">\n      <th></th>\n      <th>observationID</th>\n      <th>landcover</th>\n    </tr>\n  </thead>\n  <tbody>\n    <tr>\n      <th>0</th>\n      <td>3032614316</td>\n      <td>12.0</td>\n    </tr>\n    <tr>\n      <th>1</th>\n      <td>3052832307</td>\n      <td>16.0</td>\n    </tr>\n    <tr>\n      <th>2</th>\n      <td>3061954303</td>\n      <td>17.0</td>\n    </tr>\n    <tr>\n      <th>3</th>\n      <td>3052910309</td>\n      <td>14.0</td>\n    </tr>\n    <tr>\n      <th>4</th>\n      <td>3052921349</td>\n      <td>17.0</td>\n    </tr>\n    <tr>\n      <th>...</th>\n      <td>...</td>\n      <td>...</td>\n    </tr>\n    <tr>\n      <th>4668</th>\n      <td>3419919343</td>\n      <td>1.0</td>\n    </tr>\n    <tr>\n      <th>4669</th>\n      <td>3441332302</td>\n      <td>17.0</td>\n    </tr>\n    <tr>\n      <th>4670</th>\n      <td>4100093368</td>\n      <td>1.0</td>\n    </tr>\n    <tr>\n      <th>4671</th>\n      <td>3429079314</td>\n      <td>17.0</td>\n    </tr>\n    <tr>\n      <th>4672</th>\n      <td>4847339663</td>\n      <td>17.0</td>\n    </tr>\n  </tbody>\n</table>\n<p>4673 rows × 2 columns</p>\n</div>"
     },
     "execution_count": 29,
     "metadata": {},
     "output_type": "execute_result"
    }
   ],
   "source": [
    "tmp"
   ],
   "metadata": {
    "collapsed": false,
    "ExecuteTime": {
     "end_time": "2024-06-16T16:12:34.039015Z",
     "start_time": "2024-06-16T16:12:34.034874Z"
    }
   },
   "id": "ed2178b537016ad1",
   "execution_count": 29
  },
  {
   "cell_type": "code",
   "outputs": [
    {
     "data": {
      "text/plain": "      observationID  landcover\n236      2238489688        NaN\n242      2238501450        NaN\n270      2238546929        NaN\n271      2238547542        NaN\n272      2238548270        NaN\n...             ...        ...\n4371     2238546511        NaN\n4375     2238548629        NaN\n4442     2285836317        NaN\n4447     2351006323        NaN\n4450     2425487000        NaN\n\n[61 rows x 2 columns]",
      "text/html": "<div>\n<style scoped>\n    .dataframe tbody tr th:only-of-type {\n        vertical-align: middle;\n    }\n\n    .dataframe tbody tr th {\n        vertical-align: top;\n    }\n\n    .dataframe thead th {\n        text-align: right;\n    }\n</style>\n<table border=\"1\" class=\"dataframe\">\n  <thead>\n    <tr style=\"text-align: right;\">\n      <th></th>\n      <th>observationID</th>\n      <th>landcover</th>\n    </tr>\n  </thead>\n  <tbody>\n    <tr>\n      <th>236</th>\n      <td>2238489688</td>\n      <td>NaN</td>\n    </tr>\n    <tr>\n      <th>242</th>\n      <td>2238501450</td>\n      <td>NaN</td>\n    </tr>\n    <tr>\n      <th>270</th>\n      <td>2238546929</td>\n      <td>NaN</td>\n    </tr>\n    <tr>\n      <th>271</th>\n      <td>2238547542</td>\n      <td>NaN</td>\n    </tr>\n    <tr>\n      <th>272</th>\n      <td>2238548270</td>\n      <td>NaN</td>\n    </tr>\n    <tr>\n      <th>...</th>\n      <td>...</td>\n      <td>...</td>\n    </tr>\n    <tr>\n      <th>4371</th>\n      <td>2238546511</td>\n      <td>NaN</td>\n    </tr>\n    <tr>\n      <th>4375</th>\n      <td>2238548629</td>\n      <td>NaN</td>\n    </tr>\n    <tr>\n      <th>4442</th>\n      <td>2285836317</td>\n      <td>NaN</td>\n    </tr>\n    <tr>\n      <th>4447</th>\n      <td>2351006323</td>\n      <td>NaN</td>\n    </tr>\n    <tr>\n      <th>4450</th>\n      <td>2425487000</td>\n      <td>NaN</td>\n    </tr>\n  </tbody>\n</table>\n<p>61 rows × 2 columns</p>\n</div>"
     },
     "execution_count": 31,
     "metadata": {},
     "output_type": "execute_result"
    }
   ],
   "source": [
    "tmp[tmp.landcover.isna()]"
   ],
   "metadata": {
    "collapsed": false,
    "ExecuteTime": {
     "end_time": "2024-06-16T16:12:42.272853Z",
     "start_time": "2024-06-16T16:12:42.267994Z"
    }
   },
   "id": "67015e729f230d2c",
   "execution_count": 31
  },
  {
   "cell_type": "code",
   "outputs": [],
   "source": [],
   "metadata": {
    "collapsed": false
   },
   "id": "346798659fb2f121"
  }
 ],
 "metadata": {
  "kernelspec": {
   "display_name": "Python 3",
   "language": "python",
   "name": "python3"
  },
  "language_info": {
   "codemirror_mode": {
    "name": "ipython",
    "version": 2
   },
   "file_extension": ".py",
   "mimetype": "text/x-python",
   "name": "python",
   "nbconvert_exporter": "python",
   "pygments_lexer": "ipython2",
   "version": "2.7.6"
  }
 },
 "nbformat": 4,
 "nbformat_minor": 5
}
