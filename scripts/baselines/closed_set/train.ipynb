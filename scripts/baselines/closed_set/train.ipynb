{
 "cells": [
  {
   "cell_type": "code",
   "execution_count": 1,
   "id": "3354cfc1-8399-442c-8ed6-ed2a45a971d0",
   "metadata": {
    "tags": []
   },
   "outputs": [],
   "source": [
    "import os\n",
    "import pandas as pd\n",
    "import warnings\n",
    "\n",
    "warnings.filterwarnings(\"ignore\")"
   ]
  },
  {
   "cell_type": "code",
   "execution_count": 2,
   "id": "da809bb787e9e9ae",
   "metadata": {
    "collapsed": false,
    "jupyter": {
     "outputs_hidden": false
    },
    "tags": []
   },
   "outputs": [
    {
     "name": "stdout",
     "output_type": "stream",
     "text": [
      "Thu Sep 19 15:41:45 2024       \n",
      "+-----------------------------------------------------------------------------------------+\n",
      "| NVIDIA-SMI 550.90.07              Driver Version: 550.90.07      CUDA Version: 12.4     |\n",
      "|-----------------------------------------+------------------------+----------------------+\n",
      "| GPU  Name                 Persistence-M | Bus-Id          Disp.A | Volatile Uncorr. ECC |\n",
      "| Fan  Temp   Perf          Pwr:Usage/Cap |           Memory-Usage | GPU-Util  Compute M. |\n",
      "|                                         |                        |               MIG M. |\n",
      "|=========================================+========================+======================|\n",
      "|   0  NVIDIA A40                     On  |   00000000:61:00.0 Off |                    0 |\n",
      "|  0%   35C    P8             21W /  300W |       1MiB /  46068MiB |      0%      Default |\n",
      "|                                         |                        |                  N/A |\n",
      "+-----------------------------------------+------------------------+----------------------+\n",
      "                                                                                         \n",
      "+-----------------------------------------------------------------------------------------+\n",
      "| Processes:                                                                              |\n",
      "|  GPU   GI   CI        PID   Type   Process name                              GPU Memory |\n",
      "|        ID   ID                                                               Usage      |\n",
      "|=========================================================================================|\n",
      "|  No running processes found                                                             |\n",
      "+-----------------------------------------------------------------------------------------+\n"
     ]
    }
   ],
   "source": [
    "!nvidia-smi"
   ]
  },
  {
   "cell_type": "markdown",
   "id": "9ff61ec2-0d15-497e-9ce6-1dd84522836e",
   "metadata": {},
   "source": [
    "## Download image data using provided download CLI\n",
    "Bellow we download all metadata and resized images (500p) for a FungiTastic-Mini subset."
   ]
  },
  {
   "cell_type": "code",
   "execution_count": 4,
   "id": "ba6f4b64-2096-4eb2-a49b-a395f1da69ee",
   "metadata": {
    "tags": []
   },
   "outputs": [],
   "source": [
    "!python ../../../dataset/download.py --metadata --images --subset \"m\" --size \"500\" --save_path \"./\""
   ]
  },
  {
   "cell_type": "code",
   "execution_count": 5,
   "id": "5d64680e-dd0c-4d4d-91ba-2c7b9e96d7af",
   "metadata": {
    "tags": []
   },
   "outputs": [
    {
     "name": "stdout",
     "output_type": "stream",
     "text": [
      "FungiTastic-Mini-ClosedSet-Test.csv  FungiTastic-Mini-OpenSet-Test.csv\n",
      "FungiTastic-Mini-ClosedSet-Val.csv   FungiTastic-Mini-OpenSet-Val.csv\n",
      "FungiTastic-Mini-DNA-Test.csv\t     FungiTastic-Mini-Train.csv\n"
     ]
    }
   ],
   "source": [
    "!ls ./FungiTastic/metadata/FungiTastic-Mini/"
   ]
  },
  {
   "cell_type": "code",
   "execution_count": 6,
   "id": "c0896204-579d-4829-9ff4-835f182e3e3e",
   "metadata": {
    "tags": []
   },
   "outputs": [
    {
     "name": "stdout",
     "output_type": "stream",
     "text": [
      "dna-test  test\ttrain  val\n"
     ]
    }
   ],
   "source": [
    "!ls ./FungiTastic/FungiTastic-Mini"
   ]
  },
  {
   "cell_type": "markdown",
   "id": "d7a0520ec10736f",
   "metadata": {},
   "source": [
    "## Load and preprocess metadata"
   ]
  },
  {
   "cell_type": "code",
   "execution_count": 20,
   "id": "170ded66-a4e2-4076-a31c-875bf6ecac9f",
   "metadata": {
    "tags": []
   },
   "outputs": [],
   "source": [
    "BASE_METADATA_PATH = \"./\"\n",
    "\n",
    "train_df = pd.read_csv(f\"{BASE_METADATA_PATH}/FungiTastic-Mini-Train.csv\")\n",
    "val_df = pd.read_csv(f\"{BASE_METADATA_PATH}/FungiTastic-Mini-ClosedSet-Val.csv\")\n",
    "test_df = pd.read_csv(f\"{BASE_METADATA_PATH}/FungiTastic-Mini-ClosedSet-Test.csv\")"
   ]
  },
  {
   "cell_type": "markdown",
   "id": "394e4926-dff6-48d9-b24a-cc503ac42d33",
   "metadata": {
    "tags": []
   },
   "source": [
    "### Setting image_path to the images."
   ]
  },
  {
   "cell_type": "code",
   "execution_count": 31,
   "id": "cb17161f-7cb1-41b0-84ed-8ee1970fb543",
   "metadata": {
    "tags": []
   },
   "outputs": [],
   "source": [
    "BASE_IMAGE_PATH = \"./FungiTastic/FungiTastic-Mini\"\n",
    "SIZE = \"500p\"\n",
    "\n",
    "train_df[\"image_path\"] = train_df.filename.apply(lambda filename: f\"{BASE_IMAGE_PATH}/train/{SIZE}/{filename}\")\n",
    "val_df[\"image_path\"] = val_df.filename.apply(lambda filename: f\"{BASE_IMAGE_PATH}/val/{SIZE}/{filename}\")"
   ]
  },
  {
   "cell_type": "markdown",
   "id": "5214cc72-f106-4308-a838-8d8457325562",
   "metadata": {},
   "source": [
    "### Update the column name to fit the FGVC expected naming convention and save the updated metadata"
   ]
  },
  {
   "cell_type": "code",
   "execution_count": 35,
   "id": "56fd328e-5e8b-4c13-9c42-6575c8a1cfd0",
   "metadata": {
    "tags": []
   },
   "outputs": [],
   "source": [
    "!mkdir metadata\n",
    "\n",
    "train_df = train_df.rename(columns={\"category_id\":\"class_id\"})\n",
    "val_df = val_df.rename(columns={\"category_id\":\"class_id\"})\n",
    "\n",
    "train_df.to_csv(\"./metadata/FungiTastic-Mini-Train.csv\", index=None)\n",
    "val_df.to_csv(\"./metadata/FungiTastic-Mini-ClosedSet-Val.csv\", index=None)"
   ]
  },
  {
   "cell_type": "markdown",
   "id": "1b82180d29c8cf70",
   "metadata": {},
   "source": [
    "## Train single model with a config file."
   ]
  },
  {
   "cell_type": "markdown",
   "id": "b67368e494d40cdc",
   "metadata": {},
   "source": [
    "### Environment variables\n",
    "Select which GPU to use and add your WANDB_ENTITY and WANDB_PROJECT you want to log into etc."
   ]
  },
  {
   "cell_type": "code",
   "execution_count": 36,
   "id": "f6fc25be-7c87-4d0c-bbb8-440f0be642b6",
   "metadata": {
    "tags": []
   },
   "outputs": [
    {
     "name": "stdout",
     "output_type": "stream",
     "text": [
      "env: CUDA_DEVICES=0\n",
      "env: WANDB_ENTITY=zcu_cv\n",
      "env: HFHUB_OWNER=BVRA\n",
      "env: WANDB_PROJECT=FungiTastic\n"
     ]
    }
   ],
   "source": [
    "%env CUDA_DEVICES = 0\n",
    "%env WANDB_ENTITY = zcu_cv\n",
    "%env HFHUB_OWNER = BVRA\n",
    "%env WANDB_PROJECT = FungiTastic\n",
    "%env TRAIN_METADATA_PATH = ./metadata/FungiTastic-Mini-Train.csv\n",
    "%env VAL_METADATA_PATH = ./metadata/FungiTastic-Mini-ClosedSet-Val.csv\n",
    "%env TEST_METADATA_PATH = ./metadata/FungiTastic-Mini-ClosedSet-Test.csv\n",
    "\n",
    "os.environ[\"CUDA_VISIBLE_DEVICES\"] = os.environ[\"CUDA_DEVICES\"]"
   ]
  },
  {
   "cell_type": "code",
   "execution_count": 45,
   "id": "73d960e3824a024b",
   "metadata": {
    "collapsed": false,
    "jupyter": {
     "outputs_hidden": false
    },
    "tags": []
   },
   "outputs": [
    {
     "name": "stdout",
     "output_type": "stream",
     "text": [
      "(script) INFO: Loading training config.\n",
      "(script) DEBUG: Extra arguments passed to the script: {}\n",
      "(script) INFO: Setting run name: resnet18.a1_in1k-CrossEntropyLoss-light\n",
      "(script) INFO: Using experiment directory: ../runs/resnet18.a1_in1k-CrossEntropyLoss-light/exp12\n",
      "(script) INFO: Using training configuration: {\n",
      "    \"augmentations\": \"light\",\n",
      "    \"image_size\": [\n",
      "        224,\n",
      "        224\n",
      "    ],\n",
      "    \"dataset\": \"FungiTastic-Mini\",\n",
      "    \"architecture\": \"resnet18.a1_in1k\",\n",
      "    \"train\": null,\n",
      "    \"loss\": \"CrossEntropyLoss\",\n",
      "    \"optimizer\": \"SGD\",\n",
      "    \"scheduler\": \"plateau\",\n",
      "    \"epochs\": 1,\n",
      "    \"learning_rate\": 0.01,\n",
      "    \"batch_size\": 64,\n",
      "    \"accumulation_steps\": 1,\n",
      "    \"random_seed\": 777,\n",
      "    \"workers\": 12,\n",
      "    \"multigpu\": false,\n",
      "    \"tags\": [\n",
      "        \"FungiTastic-Mini\",\n",
      "        \"224x224\",\n",
      "        \"Convolutional\"\n",
      "    ],\n",
      "    \"root_path\": \"../\",\n",
      "    \"run_name\": \"resnet18.a1_in1k-CrossEntropyLoss-light\",\n",
      "    \"exp_name\": \"exp12\",\n",
      "    \"exp_path\": \"../runs/resnet18.a1_in1k-CrossEntropyLoss-light/exp12\"\n",
      "}\n",
      "(fgvc) INFO: Using device: cuda (0)\n",
      "(fgvc) INFO: Device names: 0: NVIDIA A40\n",
      "(script) INFO: Loading training and validation metadata.\n",
      "(script) INFO: Loaded training metadata. Number of samples: 46842\n",
      "(script) INFO: Loaded validation metadata. Number of samples: 9412\n",
      "(script) INFO: Loaded test metadata. Number of samples: 10738\n",
      "(script) INFO: Creating model, optimizer, and scheduler.\n",
      "(fgvc) DEBUG: Setting new prediction head with random initial weights.\n",
      "(script) INFO: Creating DataLoaders.\n",
      "/usr/local/lib/python3.8/dist-packages/torch/utils/data/dataloader.py:556: UserWarning: This DataLoader will create 12 worker processes in total. Our suggested max number of worker in current system is 8, which is smaller than what this DataLoader is going to create. Please be aware that excessive worker creation might get DataLoader running slow or even freeze, lower the worker number to avoid potential slowness/freeze if necessary.\n",
      "  warnings.warn(_create_warning_msg(\n",
      "(script) INFO: Creating loss function.\n",
      "\u001b[34m\u001b[1mwandb\u001b[0m: Currently logged in as: \u001b[33mpicekl\u001b[0m (\u001b[33mzcu_cv\u001b[0m). Use \u001b[1m`wandb login --relogin`\u001b[0m to force relogin\n",
      "\u001b[34m\u001b[1mwandb\u001b[0m: wandb version 0.18.1 is available!  To upgrade, please run:\n",
      "\u001b[34m\u001b[1mwandb\u001b[0m:  $ pip install wandb --upgrade\n",
      "\u001b[34m\u001b[1mwandb\u001b[0m: Tracking run with wandb version 0.13.11\n",
      "\u001b[34m\u001b[1mwandb\u001b[0m: Run data is saved locally in \u001b[35m\u001b[1m/auto/plzen4-ntis/home/picekl/Projects/FungiTastic/scripts/baselines/closed_set/wandb/run-20240919_165637-w2qbckao\u001b[0m\n",
      "\u001b[34m\u001b[1mwandb\u001b[0m: Run \u001b[1m`wandb offline`\u001b[0m to turn off syncing.\n",
      "\u001b[34m\u001b[1mwandb\u001b[0m: Syncing run \u001b[33mresnet18.a1_in1k-CrossEntropyLoss-light\u001b[0m\n",
      "\u001b[34m\u001b[1mwandb\u001b[0m: ⭐️ View project at \u001b[34m\u001b[4mhttps://wandb.ai/zcu_cv/FungiTastic\u001b[0m\n",
      "\u001b[34m\u001b[1mwandb\u001b[0m: 🚀 View run at \u001b[34m\u001b[4mhttps://wandb.ai/zcu_cv/FungiTastic/runs/w2qbckao\u001b[0m\n",
      "(script) INFO: Training the model.\n",
      "2024-09-19 16:56:39,170 - fgvc-training - INFO - Training started.\n",
      "/usr/local/lib/python3.8/dist-packages/torch/utils/data/dataloader.py:556: UserWarning: This DataLoader will create 12 worker processes in total. Our suggested max number of worker in current system is 8, which is smaller than what this DataLoader is going to create. Please be aware that excessive worker creation might get DataLoader running slow or even freeze, lower the worker number to avoid potential slowness/freeze if necessary.\n",
      "  warnings.warn(_create_warning_msg(\n",
      "100%|█████████████████████████████████████████| 732/732 [00:52<00:00, 13.97it/s]\n",
      "/usr/local/lib/python3.8/dist-packages/torch/utils/data/dataloader.py:556: UserWarning: This DataLoader will create 12 worker processes in total. Our suggested max number of worker in current system is 8, which is smaller than what this DataLoader is going to create. Please be aware that excessive worker creation might get DataLoader running slow or even freeze, lower the worker number to avoid potential slowness/freeze if necessary.\n",
      "  warnings.warn(_create_warning_msg(\n",
      "100%|█████████████████████████████████████████| 148/148 [00:06<00:00, 21.63it/s]\n",
      "2024-09-19 16:57:40,963 - fgvc-training - INFO - Epoch 1 - avg_train_loss: 4.2984\tavg_val_loss: 3.3312\tF1: 5.17%\tAccuracy: 29.35%\tRecall@3: 45.28%\ttime: 62s\n",
      "2024-09-19 16:57:40,971 - fgvc-training - INFO - Epoch 1 - Save checkpoint with best validation loss: 3.331219\n",
      "2024-09-19 16:57:41,335 - fgvc-training - INFO - Epoch 1 - Save checkpoint with best validation accuracy: 0.293455\n",
      "2024-09-19 16:57:41,636 - fgvc-training - INFO - Epoch 1 - Save checkpoint with best validation recall@3: 0.452826\n",
      "2024-09-19 16:57:41,913 - fgvc-training - INFO - Epoch 1 - Save checkpoint with best validation f1: 0.051747\n",
      "2024-09-19 16:57:42,715 - fgvc-training - INFO - Save checkpoint of the last epoch\n",
      "2024-09-19 16:57:43,076 - fgvc-training - INFO - Best scores (validation loss): avg_train_loss: 4.2984\tavg_val_loss: 3.3312\tF1: 5.17%\tAccuracy: 29.35%\tRecall@3: 45.28%\ttime: 62s\n",
      "2024-09-19 16:57:43,077 - fgvc-training - INFO - Best scores (validation Accuracy): avg_train_loss: 4.2984\tavg_val_loss: 3.3312\tF1: 5.17%\tAccuracy: 29.35%\tRecall@3: 45.28%\ttime: 62s\n",
      "2024-09-19 16:57:43,077 - fgvc-training - INFO - Best scores (validation Recall@3): avg_train_loss: 4.2984\tavg_val_loss: 3.3312\tF1: 5.17%\tAccuracy: 29.35%\tRecall@3: 45.28%\ttime: 62s\n",
      "2024-09-19 16:57:43,077 - fgvc-training - INFO - Best scores (validation F1): avg_train_loss: 4.2984\tavg_val_loss: 3.3312\tF1: 5.17%\tAccuracy: 29.35%\tRecall@3: 45.28%\ttime: 62s\n",
      "2024-09-19 16:57:43,077 - fgvc-training - INFO - Training done in 63.9069128036499s.\n",
      "/usr/local/lib/python3.8/dist-packages/torch/utils/data/dataloader.py:556: UserWarning: This DataLoader will create 12 worker processes in total. Our suggested max number of worker in current system is 8, which is smaller than what this DataLoader is going to create. Please be aware that excessive worker creation might get DataLoader running slow or even freeze, lower the worker number to avoid potential slowness/freeze if necessary.\n",
      "  warnings.warn(_create_warning_msg(\n",
      "(script) INFO: Creating predictions.\n",
      "100%|█████████████████████████████████████████| 168/168 [00:07<00:00, 22.57it/s]\n",
      "{'Accuracy': 0.28236170609051964, 'Recall@3': 0.44384429130191844, 'F1': 0.05051691443261314}\n"
     ]
    },
    {
     "name": "stderr",
     "output_type": "stream",
     "text": [
      "\n",
      "KeyboardInterrupt\n",
      "\n"
     ]
    }
   ],
   "source": [
    "!python train.py \\\n",
    "    --train-path \"./metadata/FungiTastic-Mini-Train.csv\" \\\n",
    "    --val-path \"./metadata/FungiTastic-Mini-ClosedSet-Val.csv\" \\\n",
    "    --test-path \"./metadata/FungiTastic-Mini-ClosedSet-Test.csv\" \\\n",
    "    --config-path ./configs/default_config.yaml \\\n",
    "    --cuda-devices $CUDA_DEVICES \\\n",
    "    --wandb-entity $WANDB_ENTITY \\\n",
    "    --wandb-project $WANDB_PROJECT \\\n",
    "    --hfhub-owner $HFHUB_OWNER"
   ]
  },
  {
   "cell_type": "markdown",
   "id": "72af2f9e1431093b",
   "metadata": {},
   "source": [
    "## Running Sweep Training"
   ]
  },
  {
   "cell_type": "markdown",
   "id": "7185ec2b-9868-4c52-b2cb-af65b3640ef4",
   "metadata": {},
   "source": [
    "### Environment variables\n",
    "Select which GPU to use and add your WANDB_ENTITY and WANDB_PROJECT you want to log into etc."
   ]
  },
  {
   "cell_type": "code",
   "execution_count": null,
   "id": "5f8fb95b-24b8-4b77-ad4e-79394fad1259",
   "metadata": {},
   "outputs": [],
   "source": [
    "%env CUDA_DEVICES = \"changethis\"\n",
    "%env WANDB_ENTITY = \"changethis\"\n",
    "%env HFHUB_OWNER = \"changethis\"\n",
    "%env WANDB_PROJECT = \"changethis\"\n",
    "%env TRAIN_METADATA_PATH = ./metadata/FungiTastic-Mini-Train.csv\n",
    "%env VAL_METADATA_PATH = ./metadata/FungiTastic-Mini-ClosedSet-Val.csv\n",
    "%env TEST_METADATA_PATH = ./metadata/FungiTastic-Mini-ClosedSet-Test.csv\n",
    "\n",
    "os.environ[\"CUDA_VISIBLE_DEVICES\"] = os.environ[\"CUDA_DEVICES\"]"
   ]
  },
  {
   "cell_type": "code",
   "execution_count": null,
   "id": "a3e4dad5-1b74-469f-ab41-a8f0ff25e905",
   "metadata": {},
   "outputs": [],
   "source": [
    "!wandb sweep ./sweep_configs/FungiTastic-M-CloseSet-224.yaml"
   ]
  },
  {
   "cell_type": "code",
   "execution_count": null,
   "id": "812990e2-2f66-4a37-a3e9-98497239c31c",
   "metadata": {},
   "outputs": [],
   "source": [
    "!wandb agent <WANDB_ENTITY>/<WANDB_PROJECT>/....."
   ]
  },
  {
   "cell_type": "code",
   "execution_count": null,
   "id": "a0af91b7-94f1-4ddd-a418-523588a249a9",
   "metadata": {
    "tags": []
   },
   "outputs": [],
   "source": []
  }
 ],
 "metadata": {
  "kernelspec": {
   "display_name": "Python 3 (ipykernel)",
   "language": "python",
   "name": "python3"
  },
  "language_info": {
   "codemirror_mode": {
    "name": "ipython",
    "version": 3
   },
   "file_extension": ".py",
   "mimetype": "text/x-python",
   "name": "python",
   "nbconvert_exporter": "python",
   "pygments_lexer": "ipython3",
   "version": "3.8.10"
  }
 },
 "nbformat": 4,
 "nbformat_minor": 5
}
